{
 "cells": [
  {
   "cell_type": "code",
   "execution_count": 1,
   "metadata": {},
   "outputs": [],
   "source": [
    "import tensorflow as tf\n",
    "import glob\n",
    "import numpy as np\n",
    "import os"
   ]
  },
  {
   "cell_type": "code",
   "execution_count": 2,
   "metadata": {},
   "outputs": [],
   "source": [
    "data_dir = \"/glusterfs/public/data/yt8m/test/*.tfrecord\"\n",
    "bottleneck_dir = \"/glusterfs/public/bottleneck/yt8m/test\"\n",
    "os.system(\"mkdir -m 0777 -p %s\" % bottleneck_dir)\n",
    "tfrecords = glob.glob(data_dir)"
   ]
  },
  {
   "cell_type": "code",
   "execution_count": 3,
   "metadata": {},
   "outputs": [
    {
     "name": "stdout",
     "output_type": "stream",
     "text": [
      "Convert File from /glusterfs/public/data/yt8m/test/test-0.tfrecord ----> /glusterfs/public/bottleneck/yt8m/test/test-0.raw \n"
     ]
    },
    {
     "ename": "NameError",
     "evalue": "name 'printf' is not defined",
     "output_type": "error",
     "traceback": [
      "\u001b[0;31m---------------------------------------------------------------------------\u001b[0m",
      "\u001b[0;31mNameError\u001b[0m                                 Traceback (most recent call last)",
      "\u001b[0;32m<ipython-input-3-79b23276d497>\u001b[0m in \u001b[0;36m<module>\u001b[0;34m()\u001b[0m\n\u001b[1;32m     28\u001b[0m   \u001b[0mfsize\u001b[0m \u001b[0;34m=\u001b[0m \u001b[0mos\u001b[0m\u001b[0;34m.\u001b[0m\u001b[0mpath\u001b[0m\u001b[0;34m.\u001b[0m\u001b[0mgetsize\u001b[0m\u001b[0;34m(\u001b[0m\u001b[0mtargetfile\u001b[0m\u001b[0;34m)\u001b[0m\u001b[0;34m\u001b[0m\u001b[0m\n\u001b[1;32m     29\u001b[0m   \u001b[0mtotalvec\u001b[0m \u001b[0;34m+=\u001b[0m \u001b[0mveclen\u001b[0m\u001b[0;34m\u001b[0m\u001b[0m\n\u001b[0;32m---> 30\u001b[0;31m   \u001b[0mprintf\u001b[0m \u001b[0;34m(\u001b[0m\u001b[0;34m\"Write %d vectors, expect size %d ... true size %d\"\u001b[0m \u001b[0;34m%\u001b[0m \u001b[0;34m(\u001b[0m\u001b[0mveclen\u001b[0m\u001b[0;34m,\u001b[0m \u001b[0mveclen\u001b[0m\u001b[0;34m*\u001b[0m\u001b[0;36m1024\u001b[0m\u001b[0;34m,\u001b[0m \u001b[0mfsize\u001b[0m\u001b[0;34m)\u001b[0m\u001b[0;34m)\u001b[0m\u001b[0;34m\u001b[0m\u001b[0m\n\u001b[0m\u001b[1;32m     31\u001b[0m \u001b[0;34m\u001b[0m\u001b[0m\n",
      "\u001b[0;31mNameError\u001b[0m: name 'printf' is not defined"
     ]
    }
   ],
   "source": [
    "totalvec = 0\n",
    "for file in tfrecords:\n",
    "  basename = os.path.basename(file) \n",
    "  fname = os.path.splitext(basename)[0]\n",
    "  targetfile = os.path.join(bottleneck_dir, fname + \".raw\" )\n",
    "  print (\"Convert File from %s ----> %s \" % (file, targetfile))\n",
    "  veclen = 0\n",
    "  with open(targetfile,'wb') as writefile:\n",
    "      entries = tf.python_io.tf_record_iterator(file)\n",
    "      bFirst = True\n",
    "      for record in entries:\n",
    "        seqExample = tf.train.SequenceExample.FromString(record)\n",
    "        # print(seqExample)\n",
    "        video_id = seqExample.context.feature[\"video_id\"].bytes_list\n",
    "        # video_1d_ndarray = np.fromstring(video_id.value[0], dtype=np.uint8)\n",
    "        # video_1d_str = video_id.value.encode('utf-8')\n",
    "        # print(video_id)\n",
    "        rgb_vectors = seqExample.feature_lists.feature_list[\"rgb\"]\n",
    "        # print (rgb_vectors)\n",
    "        vectors = rgb_vectors.feature\n",
    "        # vec = seqExample.feature_lists.feature_list(\"rgb\")\n",
    "        for vec in vectors:\n",
    "            veclen += 1\n",
    "            btlist = vec.bytes_list\n",
    "            btarray = np.fromstring(btlist.value[0], dtype=np.uint8)\n",
    "            writefile.write(btarray)\n",
    "      writefile.close()\n",
    "  fsize = os.path.getsize(targetfile)\n",
    "  totalvec += veclen\n",
    "  print (\"Write %d vectors, expect size %d ... true size %d\" % (veclen, veclen*1024, fsize))\n",
    "    \n"
   ]
  },
  {
   "cell_type": "code",
   "execution_count": 4,
   "metadata": {},
   "outputs": [
    {
     "name": "stdout",
     "output_type": "stream",
     "text": [
      "1024\n",
      "Total vectors = 40559\n"
     ]
    }
   ],
   "source": [
    "\n",
    "print (\"Total vectors = %d\" % veclen)"
   ]
  },
  {
   "cell_type": "code",
   "execution_count": 6,
   "metadata": {},
   "outputs": [
    {
     "name": "stdout",
     "output_type": "stream",
     "text": [
      "Total vectors = 40559\n"
     ]
    }
   ],
   "source": []
  },
  {
   "cell_type": "code",
   "execution_count": null,
   "metadata": {},
   "outputs": [],
   "source": []
  }
 ],
 "metadata": {
  "kernelspec": {
   "display_name": "Python 3",
   "language": "python",
   "name": "python3"
  },
  "language_info": {
   "codemirror_mode": {
    "name": "ipython",
    "version": 3
   },
   "file_extension": ".py",
   "mimetype": "text/x-python",
   "name": "python",
   "nbconvert_exporter": "python",
   "pygments_lexer": "ipython3",
   "version": "3.5.2"
  }
 },
 "nbformat": 4,
 "nbformat_minor": 2
}
